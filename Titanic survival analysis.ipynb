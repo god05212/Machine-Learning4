{
 "cells": [
  {
   "cell_type": "code",
   "execution_count": 1,
   "metadata": {
    "colab": {},
    "colab_type": "code",
    "id": "zKbTYjWpx03n"
   },
   "outputs": [],
   "source": [
    "import warnings\n",
    "warnings.filterwarnings(\"ignore\")\n",
    "from sklearn.preprocessing import MinMaxScaler, LabelEncoder, OneHotEncoder\n",
    "import missingno as msno\n",
    "import pandas as pd\n",
    "import numpy as np\n",
    "import matplotlib.pyplot as plt\n",
    "from sklearn.model_selection import train_test_split, RandomizedSearchCV\n",
    "import seaborn as sns\n",
    "from xgboost.sklearn import XGBClassifier\n",
    "from sklearn.ensemble import RandomForestClassifier, GradientBoostingClassifier, ExtraTreesClassifier\n",
    "from sklearn.linear_model import LogisticRegression\n",
    "from vecstack import StackingTransformer\n",
    "from sklearn.metrics import roc_curve, auc, roc_auc_score, classification_report\n",
    "from sklearn.pipeline import Pipeline\n",
    "from sklearn.compose import ColumnTransformer"
   ]
  },
  {
   "cell_type": "code",
   "execution_count": 2,
   "metadata": {
    "scrolled": true
   },
   "outputs": [
    {
     "name": "stdout",
     "output_type": "stream",
     "text": [
      "Requirement already satisfied: xgboost in c:\\programdata\\anaconda3\\lib\\site-packages (1.5.2)\n",
      "Requirement already satisfied: numpy in c:\\programdata\\anaconda3\\lib\\site-packages (from xgboost) (1.22.4)\n",
      "Requirement already satisfied: scipy in c:\\programdata\\anaconda3\\lib\\site-packages (from xgboost) (1.6.2)Note: you may need to restart the kernel to use updated packages.\n",
      "\n"
     ]
    },
    {
     "name": "stderr",
     "output_type": "stream",
     "text": [
      "WARNING: Ignoring invalid distribution - (c:\\programdata\\anaconda3\\lib\\site-packages)\n",
      "WARNING: Ignoring invalid distribution -arkupsafe (c:\\programdata\\anaconda3\\lib\\site-packages)\n",
      "WARNING: Ignoring invalid distribution -eautifulsoup4 (c:\\programdata\\anaconda3\\lib\\site-packages)\n",
      "WARNING: Ignoring invalid distribution -elenium (c:\\programdata\\anaconda3\\lib\\site-packages)\n",
      "WARNING: Ignoring invalid distribution -ertifi (c:\\programdata\\anaconda3\\lib\\site-packages)\n",
      "WARNING: Ignoring invalid distribution -issingno (c:\\programdata\\anaconda3\\lib\\site-packages)\n",
      "WARNING: Ignoring invalid distribution -oblib (c:\\programdata\\anaconda3\\lib\\site-packages)\n",
      "WARNING: Ignoring invalid distribution -weepy (c:\\programdata\\anaconda3\\lib\\site-packages)\n",
      "WARNING: Ignoring invalid distribution -lenium (c:\\programdata\\anaconda3\\lib\\site-packages)\n",
      "WARNING: Ignoring invalid distribution -rtifi (c:\\programdata\\anaconda3\\lib\\site-packages)\n",
      "WARNING: Ignoring invalid distribution - (c:\\programdata\\anaconda3\\lib\\site-packages)\n",
      "WARNING: Ignoring invalid distribution -arkupsafe (c:\\programdata\\anaconda3\\lib\\site-packages)\n",
      "WARNING: Ignoring invalid distribution -eautifulsoup4 (c:\\programdata\\anaconda3\\lib\\site-packages)\n",
      "WARNING: Ignoring invalid distribution -elenium (c:\\programdata\\anaconda3\\lib\\site-packages)\n",
      "WARNING: Ignoring invalid distribution -ertifi (c:\\programdata\\anaconda3\\lib\\site-packages)\n",
      "WARNING: Ignoring invalid distribution -issingno (c:\\programdata\\anaconda3\\lib\\site-packages)\n",
      "WARNING: Ignoring invalid distribution -oblib (c:\\programdata\\anaconda3\\lib\\site-packages)\n",
      "WARNING: Ignoring invalid distribution -weepy (c:\\programdata\\anaconda3\\lib\\site-packages)\n",
      "WARNING: Ignoring invalid distribution -lenium (c:\\programdata\\anaconda3\\lib\\site-packages)\n",
      "WARNING: Ignoring invalid distribution -rtifi (c:\\programdata\\anaconda3\\lib\\site-packages)\n",
      "DEPRECATION: pyodbc 4.0.0-unsupported has a non-standard version number. pip 24.1 will enforce this behaviour change. A possible replacement is to upgrade to a newer version of pyodbc or contact the author to suggest that they release a version with a conforming version number. Discussion can be found at https://github.com/pypa/pip/issues/12063\n",
      "\n",
      "[notice] A new release of pip is available: 24.0 -> 24.1.2\n",
      "[notice] To update, run: python.exe -m pip install --upgrade pip\n"
     ]
    }
   ],
   "source": [
    "pip install xgboost"
   ]
  },
  {
   "cell_type": "markdown",
   "metadata": {},
   "source": [
    "## Data info\n",
    "\n",
    "- **PassengerId** : 각 승객의 고유 번호\n",
    "- **Survived** : 생존 여부 0 = No, 1 = Yes\n",
    "- **Pclass** : 티켓의 승선권 클래스 (1 = 1st, 2 = 2nd, 3 = 3rd)\n",
    "- **Name** : 이름\n",
    "- **Sex** : 성별\n",
    "- **Age** : 나이\n",
    "- **SibSp** : 동반한 Sibling(형제자매)와 Spouse(배우자)의 수\n",
    "- **Parch** : 동반한 Parent(부모) Child(자식)의 수\n",
    "- **Ticket** : 티켓의 고유넘버\n",
    "- **Fare** : 티켓의 요금\n",
    "- **Cabin** : 객실 번호\n",
    "- **Embarked** : 승선한 항 (C = Cherbourg, Q = Queenstown, S = Southampton)"
   ]
  },
  {
   "cell_type": "markdown",
   "metadata": {},
   "source": [
    "<br>\n",
    "\n",
    "## 1. Preparing dataset (2번부터 실습 진행)"
   ]
  },
  {
   "cell_type": "code",
   "execution_count": 3,
   "metadata": {
    "scrolled": true
   },
   "outputs": [
    {
     "data": {
      "text/html": [
       "<div>\n",
       "<style scoped>\n",
       "    .dataframe tbody tr th:only-of-type {\n",
       "        vertical-align: middle;\n",
       "    }\n",
       "\n",
       "    .dataframe tbody tr th {\n",
       "        vertical-align: top;\n",
       "    }\n",
       "\n",
       "    .dataframe thead th {\n",
       "        text-align: right;\n",
       "    }\n",
       "</style>\n",
       "<table border=\"1\" class=\"dataframe\">\n",
       "  <thead>\n",
       "    <tr style=\"text-align: right;\">\n",
       "      <th></th>\n",
       "      <th>PassengerId</th>\n",
       "      <th>Survived</th>\n",
       "      <th>Pclass</th>\n",
       "      <th>Name</th>\n",
       "      <th>Sex</th>\n",
       "      <th>Age</th>\n",
       "      <th>SibSp</th>\n",
       "      <th>Parch</th>\n",
       "      <th>Ticket</th>\n",
       "      <th>Fare</th>\n",
       "      <th>Cabin</th>\n",
       "      <th>Embarked</th>\n",
       "    </tr>\n",
       "  </thead>\n",
       "  <tbody>\n",
       "    <tr>\n",
       "      <th>0</th>\n",
       "      <td>1</td>\n",
       "      <td>0</td>\n",
       "      <td>3</td>\n",
       "      <td>Braund, Mr. Owen Harris</td>\n",
       "      <td>male</td>\n",
       "      <td>22.0</td>\n",
       "      <td>1</td>\n",
       "      <td>0</td>\n",
       "      <td>A/5 21171</td>\n",
       "      <td>7.2500</td>\n",
       "      <td>NaN</td>\n",
       "      <td>S</td>\n",
       "    </tr>\n",
       "    <tr>\n",
       "      <th>1</th>\n",
       "      <td>2</td>\n",
       "      <td>1</td>\n",
       "      <td>1</td>\n",
       "      <td>Cumings, Mrs. John Bradley (Florence Briggs Th...</td>\n",
       "      <td>female</td>\n",
       "      <td>38.0</td>\n",
       "      <td>1</td>\n",
       "      <td>0</td>\n",
       "      <td>PC 17599</td>\n",
       "      <td>71.2833</td>\n",
       "      <td>C85</td>\n",
       "      <td>C</td>\n",
       "    </tr>\n",
       "    <tr>\n",
       "      <th>2</th>\n",
       "      <td>3</td>\n",
       "      <td>1</td>\n",
       "      <td>3</td>\n",
       "      <td>Heikkinen, Miss. Laina</td>\n",
       "      <td>female</td>\n",
       "      <td>26.0</td>\n",
       "      <td>0</td>\n",
       "      <td>0</td>\n",
       "      <td>STON/O2. 3101282</td>\n",
       "      <td>7.9250</td>\n",
       "      <td>NaN</td>\n",
       "      <td>S</td>\n",
       "    </tr>\n",
       "  </tbody>\n",
       "</table>\n",
       "</div>"
      ],
      "text/plain": [
       "   PassengerId  Survived  Pclass  \\\n",
       "0            1         0       3   \n",
       "1            2         1       1   \n",
       "2            3         1       3   \n",
       "\n",
       "                                                Name     Sex   Age  SibSp  \\\n",
       "0                            Braund, Mr. Owen Harris    male  22.0      1   \n",
       "1  Cumings, Mrs. John Bradley (Florence Briggs Th...  female  38.0      1   \n",
       "2                             Heikkinen, Miss. Laina  female  26.0      0   \n",
       "\n",
       "   Parch            Ticket     Fare Cabin Embarked  \n",
       "0      0         A/5 21171   7.2500   NaN        S  \n",
       "1      0          PC 17599  71.2833   C85        C  \n",
       "2      0  STON/O2. 3101282   7.9250   NaN        S  "
      ]
     },
     "execution_count": 3,
     "metadata": {},
     "output_type": "execute_result"
    }
   ],
   "source": [
    "data_df = pd.read_csv('titanic.csv')\n",
    "data_df.head(3)"
   ]
  },
  {
   "cell_type": "code",
   "execution_count": 4,
   "metadata": {
    "colab": {
     "base_uri": "https://localhost:8080/",
     "height": 127
    },
    "colab_type": "code",
    "executionInfo": {
     "elapsed": 13775,
     "status": "ok",
     "timestamp": 1546723556658,
     "user": {
      "displayName": "Daeyeon Jo",
      "photoUrl": "https://lh4.googleusercontent.com/-9t4wvx9MYls/AAAAAAAAAAI/AAAAAAAAAC0/SPqWlKvQQMk/s64/photo.jpg",
      "userId": "05542487530960824006"
     },
     "user_tz": -540
    },
    "id": "EqR4honW16jn",
    "outputId": "35909889-315d-4a5f-815d-ce1535201ae0"
   },
   "outputs": [
    {
     "data": {
      "image/png": "[encoded data removed]",
      "text/plain": [
       "<Figure size 432x288 with 1 Axes>"
      ]
     },
     "metadata": {
      "needs_background": "light"
     },
     "output_type": "display_data"
    },
    {
     "data": {
      "text/plain": [
       "0    549\n",
       "1    342\n",
       "Name: Survived, dtype: int64"
      ]
     },
     "execution_count": 4,
     "metadata": {},
     "output_type": "execute_result"
    }
   ],
   "source": [
    "# 생존자와 사망자의 비율을 시각적으로 비교하는 막대 그래프\n",
    "y_data = data_df[['Survived']]\n",
    "survival_counts = y_data['Survived'].value_counts()\n",
    "plt.figure(figsize=(6, 4))\n",
    "plt.bar(survival_counts.index, survival_counts.values, color=['red', 'blue'])\n",
    "plt.xticks([0, 1], ['Died', 'Survived'])\n",
    "plt.xlabel('Survival')\n",
    "plt.ylabel('Count')\n",
    "plt.title('Distribution of Survival')\n",
    "plt.show()\n",
    "\n",
    "y_data['Survived'].value_counts()"
   ]
  },
  {
   "cell_type": "code",
   "execution_count": 5,
   "metadata": {},
   "outputs": [
    {
     "data": {
      "image/png": "[encoded data removed]",
      "text/plain": [
       "<Figure size 576x360 with 1 Axes>"
      ]
     },
     "metadata": {
      "needs_background": "light"
     },
     "output_type": "display_data"
    }
   ],
   "source": [
    "# 승선한 항에 따른 생존\n",
    "# 막대그래프를 보았을 때 s승선항을 이용한 사람이 많음을 볼 수 있고,\n",
    "# 승선한 항마다 생존율이 다름을 알 수 있습니다.\n",
    "plt.figure(figsize=(8, 5))\n",
    "sns.countplot(x='Embarked', hue='Survived', data=data_df)\n",
    "plt.title('Survival by Embarked')\n",
    "plt.xlabel('Embarked')\n",
    "plt.ylabel('Count')\n",
    "plt.legend(['Not Survived', 'Survived'], loc='upper right')\n",
    "plt.show()"
   ]
  },
  {
   "cell_type": "code",
   "execution_count": 6,
   "metadata": {},
   "outputs": [
    {
     "data": {
      "image/png": "[encoded data removed]",
      "text/plain": [
       "<Figure size 576x360 with 1 Axes>"
      ]
     },
     "metadata": {
      "needs_background": "light"
     },
     "output_type": "display_data"
    }
   ],
   "source": [
    "# 성별에 따른 생존\n",
    "# 남성보다 여성이 더 많이 살아남음을 볼 수 있다.\n",
    "plt.figure(figsize=(8, 5))\n",
    "sns.countplot(x='Sex', hue='Survived', data=data_df)\n",
    "plt.title('Survival by Sex')\n",
    "plt.xlabel('Sex')\n",
    "plt.ylabel('Count')\n",
    "plt.legend(['Not Survived', 'Survived'], loc='upper right')\n",
    "plt.show()"
   ]
  },
  {
   "cell_type": "code",
   "execution_count": 7,
   "metadata": {},
   "outputs": [
    {
     "data": {
      "image/png": "[encoded data removed]",
      "text/plain": [
       "<Figure size 576x360 with 1 Axes>"
      ]
     },
     "metadata": {
      "needs_background": "light"
     },
     "output_type": "display_data"
    }
   ],
   "source": [
    "# 객실 등급에 따른 생존\n",
    "# 등급이 올라갈 수록 생존율이 높아지는 것을 볼 수 있습니다.\n",
    "plt.figure(figsize=(8, 5))\n",
    "sns.countplot(x='Pclass', hue='Survived', data=data_df)\n",
    "plt.title('Survival by Pclass')\n",
    "plt.xlabel('Pclass')\n",
    "plt.ylabel('Count')\n",
    "plt.legend(['Not Survived', 'Survived'], loc='upper right')\n",
    "plt.show()"
   ]
  },
  {
   "cell_type": "code",
   "execution_count": 8,
   "metadata": {},
   "outputs": [
    {
     "data": {
      "text/html": [
       "<div>\n",
       "<style scoped>\n",
       "    .dataframe tbody tr th:only-of-type {\n",
       "        vertical-align: middle;\n",
       "    }\n",
       "\n",
       "    .dataframe tbody tr th {\n",
       "        vertical-align: top;\n",
       "    }\n",
       "\n",
       "    .dataframe thead th {\n",
       "        text-align: right;\n",
       "    }\n",
       "</style>\n",
       "<table border=\"1\" class=\"dataframe\">\n",
       "  <thead>\n",
       "    <tr style=\"text-align: right;\">\n",
       "      <th></th>\n",
       "      <th>PassengerId</th>\n",
       "      <th>Pclass</th>\n",
       "      <th>Name</th>\n",
       "      <th>Sex</th>\n",
       "      <th>Age</th>\n",
       "      <th>SibSp</th>\n",
       "      <th>Parch</th>\n",
       "      <th>Ticket</th>\n",
       "      <th>Fare</th>\n",
       "      <th>Cabin</th>\n",
       "      <th>Embarked</th>\n",
       "    </tr>\n",
       "  </thead>\n",
       "  <tbody>\n",
       "    <tr>\n",
       "      <th>0</th>\n",
       "      <td>1</td>\n",
       "      <td>3</td>\n",
       "      <td>Braund, Mr. Owen Harris</td>\n",
       "      <td>male</td>\n",
       "      <td>22.0</td>\n",
       "      <td>1</td>\n",
       "      <td>0</td>\n",
       "      <td>A/5 21171</td>\n",
       "      <td>7.2500</td>\n",
       "      <td>NaN</td>\n",
       "      <td>S</td>\n",
       "    </tr>\n",
       "    <tr>\n",
       "      <th>1</th>\n",
       "      <td>2</td>\n",
       "      <td>1</td>\n",
       "      <td>Cumings, Mrs. John Bradley (Florence Briggs Th...</td>\n",
       "      <td>female</td>\n",
       "      <td>38.0</td>\n",
       "      <td>1</td>\n",
       "      <td>0</td>\n",
       "      <td>PC 17599</td>\n",
       "      <td>71.2833</td>\n",
       "      <td>C85</td>\n",
       "      <td>C</td>\n",
       "    </tr>\n",
       "    <tr>\n",
       "      <th>2</th>\n",
       "      <td>3</td>\n",
       "      <td>3</td>\n",
       "      <td>Heikkinen, Miss. Laina</td>\n",
       "      <td>female</td>\n",
       "      <td>26.0</td>\n",
       "      <td>0</td>\n",
       "      <td>0</td>\n",
       "      <td>STON/O2. 3101282</td>\n",
       "      <td>7.9250</td>\n",
       "      <td>NaN</td>\n",
       "      <td>S</td>\n",
       "    </tr>\n",
       "  </tbody>\n",
       "</table>\n",
       "</div>"
      ],
      "text/plain": [
       "   PassengerId  Pclass                                               Name  \\\n",
       "0            1       3                            Braund, Mr. Owen Harris   \n",
       "1            2       1  Cumings, Mrs. John Bradley (Florence Briggs Th...   \n",
       "2            3       3                             Heikkinen, Miss. Laina   \n",
       "\n",
       "      Sex   Age  SibSp  Parch            Ticket     Fare Cabin Embarked  \n",
       "0    male  22.0      1      0         A/5 21171   7.2500   NaN        S  \n",
       "1  female  38.0      1      0          PC 17599  71.2833   C85        C  \n",
       "2  female  26.0      0      0  STON/O2. 3101282   7.9250   NaN        S  "
      ]
     },
     "execution_count": 8,
     "metadata": {},
     "output_type": "execute_result"
    }
   ],
   "source": [
    "# 깊은 복사\n",
    "del data_df['Survived']\n",
    "x_data = data_df.copy()\n",
    "x_data.head(3)"
   ]
  },
  {
   "cell_type": "markdown",
   "metadata": {},
   "source": [
    "<br>\n",
    "\n",
    "## 2. Feature engineering & Feature selection"
   ]
  },
  {
   "cell_type": "markdown",
   "metadata": {},
   "source": [
    "#### 시도해볼 수 있는 전략들\n",
    "\n",
    "- 불필요한 열이나 예측에 방해가 되는 열은 아예 지우기 (ex. PassengerId)\n",
    "- 결측치 채우기 \n",
    "- Text로 되어있는 Category(Factor)는 숫자로 바꿔주기 (ex. Male/Female -> 0/1)\n",
    "- 실수 범위를 구간 범위로 바꿔주기 \n",
    "- 필요한 경우 기존 열을 바탕으로 새로운 열을 계산해 추가하기"
   ]
  },
  {
   "cell_type": "code",
   "execution_count": 9,
   "metadata": {},
   "outputs": [
    {
     "name": "stdout",
     "output_type": "stream",
     "text": [
      "<class 'pandas.core.frame.DataFrame'>\n",
      "RangeIndex: 891 entries, 0 to 890\n",
      "Data columns (total 11 columns):\n",
      " #   Column       Non-Null Count  Dtype  \n",
      "---  ------       --------------  -----  \n",
      " 0   PassengerId  891 non-null    int64  \n",
      " 1   Pclass       891 non-null    int64  \n",
      " 2   Name         891 non-null    object \n",
      " 3   Sex          891 non-null    object \n",
      " 4   Age          714 non-null    float64\n",
      " 5   SibSp        891 non-null    int64  \n",
      " 6   Parch        891 non-null    int64  \n",
      " 7   Ticket       891 non-null    object \n",
      " 8   Fare         891 non-null    float64\n",
      " 9   Cabin        204 non-null    object \n",
      " 10  Embarked     889 non-null    object \n",
      "dtypes: float64(2), int64(4), object(5)\n",
      "memory usage: 76.7+ KB\n"
     ]
    }
   ],
   "source": [
    "# 결측치가 있는 3가지열 (Age, Cabin, Embarked)\n",
    "x_data.info()"
   ]
  },
  {
   "cell_type": "code",
   "execution_count": 10,
   "metadata": {},
   "outputs": [
    {
     "data": {
      "text/plain": [
       "<AxesSubplot:>"
      ]
     },
     "execution_count": 10,
     "metadata": {},
     "output_type": "execute_result"
    },
    {
     "data": {
      "image/png": "[encoded data removed]",
      "text/plain": [
       "<Figure size 864x360 with 2 Axes>"
      ]
     },
     "metadata": {
      "needs_background": "light"
     },
     "output_type": "display_data"
    }
   ],
   "source": [
    "msno.matrix(x_data, figsize=(12,5))"
   ]
  },
  {
   "cell_type": "code",
   "execution_count": 11,
   "metadata": {},
   "outputs": [
    {
     "data": {
      "text/html": [
       "<div>\n",
       "<style scoped>\n",
       "    .dataframe tbody tr th:only-of-type {\n",
       "        vertical-align: middle;\n",
       "    }\n",
       "\n",
       "    .dataframe tbody tr th {\n",
       "        vertical-align: top;\n",
       "    }\n",
       "\n",
       "    .dataframe thead th {\n",
       "        text-align: right;\n",
       "    }\n",
       "</style>\n",
       "<table border=\"1\" class=\"dataframe\">\n",
       "  <thead>\n",
       "    <tr style=\"text-align: right;\">\n",
       "      <th></th>\n",
       "      <th>Pclass</th>\n",
       "      <th>Name</th>\n",
       "      <th>Sex</th>\n",
       "      <th>Age</th>\n",
       "      <th>SibSp</th>\n",
       "      <th>Parch</th>\n",
       "      <th>Ticket</th>\n",
       "      <th>Fare</th>\n",
       "      <th>Cabin</th>\n",
       "      <th>Embarked</th>\n",
       "    </tr>\n",
       "  </thead>\n",
       "  <tbody>\n",
       "    <tr>\n",
       "      <th>0</th>\n",
       "      <td>3</td>\n",
       "      <td>Braund, Mr. Owen Harris</td>\n",
       "      <td>male</td>\n",
       "      <td>22.0</td>\n",
       "      <td>1</td>\n",
       "      <td>0</td>\n",
       "      <td>A/5 21171</td>\n",
       "      <td>7.2500</td>\n",
       "      <td>NaN</td>\n",
       "      <td>S</td>\n",
       "    </tr>\n",
       "    <tr>\n",
       "      <th>1</th>\n",
       "      <td>1</td>\n",
       "      <td>Cumings, Mrs. John Bradley (Florence Briggs Th...</td>\n",
       "      <td>female</td>\n",
       "      <td>38.0</td>\n",
       "      <td>1</td>\n",
       "      <td>0</td>\n",
       "      <td>PC 17599</td>\n",
       "      <td>71.2833</td>\n",
       "      <td>C85</td>\n",
       "      <td>C</td>\n",
       "    </tr>\n",
       "    <tr>\n",
       "      <th>2</th>\n",
       "      <td>3</td>\n",
       "      <td>Heikkinen, Miss. Laina</td>\n",
       "      <td>female</td>\n",
       "      <td>26.0</td>\n",
       "      <td>0</td>\n",
       "      <td>0</td>\n",
       "      <td>STON/O2. 3101282</td>\n",
       "      <td>7.9250</td>\n",
       "      <td>NaN</td>\n",
       "      <td>S</td>\n",
       "    </tr>\n",
       "  </tbody>\n",
       "</table>\n",
       "</div>"
      ],
      "text/plain": [
       "   Pclass                                               Name     Sex   Age  \\\n",
       "0       3                            Braund, Mr. Owen Harris    male  22.0   \n",
       "1       1  Cumings, Mrs. John Bradley (Florence Briggs Th...  female  38.0   \n",
       "2       3                             Heikkinen, Miss. Laina  female  26.0   \n",
       "\n",
       "   SibSp  Parch            Ticket     Fare Cabin Embarked  \n",
       "0      1      0         A/5 21171   7.2500   NaN        S  \n",
       "1      1      0          PC 17599  71.2833   C85        C  \n",
       "2      0      0  STON/O2. 3101282   7.9250   NaN        S  "
      ]
     },
     "execution_count": 11,
     "metadata": {},
     "output_type": "execute_result"
    }
   ],
   "source": [
    "# PassengerId : 각 승객의 고유 번호로 의미 없음\n",
    "del x_data['PassengerId']\n",
    "x_data = x_data.copy()\n",
    "x_data.head(3)"
   ]
  },
  {
   "cell_type": "code",
   "execution_count": 12,
   "metadata": {},
   "outputs": [],
   "source": [
    "# 이름에서 호칭 추출하기\n",
    "x_data['Name'] = x_data['Name'].apply(lambda x: x.split(',')[1].split('.')[0].strip())\n",
    "\n",
    "# 주요 호칭 그룹화\n",
    "# 군인(Captain, Colonel, Major)이나 의사(Doctor), 목사(Reverend) 등과 같은 전문 직업\n",
    "x_data['Name'] = x_data['Name'].replace(['Capt', 'Col', 'Major', 'Dr', 'Rev'], 'Officer')\n",
    "# 귀족(Royalty)이나 작위를 나타내는 호칭\n",
    "x_data['Name'] = x_data['Name'].replace(['Jonkheer', 'Don', 'Sir', 'the Countess', 'Dona', 'Lady'], 'Royalty')\n",
    "# 기혼 여성\n",
    "x_data['Name'] = x_data['Name'].replace(['Mme', 'Ms', 'Mrs'], 'Mrs')\n",
    "# 미혼 여성\n",
    "x_data['Name'] = x_data['Name'].replace(['Mlle', 'Miss'], 'Miss')\n",
    "# 기혼 남성\n",
    "x_data['Name'] = x_data['Name'].replace(['Mr'], 'Mr')\n",
    "# 미혼 남성\n",
    "x_data['Name'] = x_data['Name'].replace(['Master'], 'Master')"
   ]
  },
  {
   "cell_type": "code",
   "execution_count": 13,
   "metadata": {},
   "outputs": [],
   "source": [
    "# 성별에 따라 먼저 구조될 수도, 생존에 용이할 수 있을 듯하다.\n",
    "encoder=LabelEncoder()\n",
    "x_data['Sex']=encoder.fit_transform(x_data['Sex'])"
   ]
  },
  {
   "cell_type": "code",
   "execution_count": 14,
   "metadata": {},
   "outputs": [
    {
     "data": {
      "image/png": "[encoded data removed]",
      "text/plain": [
       "<Figure size 720x432 with 1 Axes>"
      ]
     },
     "metadata": {
      "needs_background": "light"
     },
     "output_type": "display_data"
    }
   ],
   "source": [
    "# Age 열의 분포 시각화\n",
    "# 30개의 막대로 나누어서 보여주며, KDE 곡선을 함께 표시\n",
    "plt.figure(figsize=(10, 6))\n",
    "sns.histplot(x_data['Age'], bins=30, kde=True)\n",
    "plt.title('Distribution of Age')\n",
    "plt.xlabel('Age')\n",
    "plt.ylabel('Count')\n",
    "plt.show()\n",
    "\n",
    "# 데이터가 정규 분포를 따르지 않음.\n",
    "x_data.loc[x_data['Age'].isnull(), 'Age'] = x_data['Age'].mean()"
   ]
  },
  {
   "cell_type": "code",
   "execution_count": 15,
   "metadata": {},
   "outputs": [],
   "source": [
    "# SibSp : 동반한 Sibling(형제자매)와 Spouse(배우자)의 수 - 동반 여행자의 수에 따라 생존 차이가 있을 수도 있다.\n",
    "# Parch : 동반한 Parent(부모) Child(자식)의 수 - 위와 동일\n",
    "# SibSp와 Parch와 자신(1)을 결합하여 새로운 열 생성\n",
    "x_data['FamilySize'] = x_data['SibSp'] + x_data['Parch'] + 1\n",
    "\n",
    "# FamilySize열은 SibSp와 Parch열을 합친 값으로 중복된 정보를 포함하고, 불필요한 변수가 많으면 모델의 복잡성이 증가하여 과적합의 가능성을 높일 수 있다.\n",
    "# SibSp와 Parch 열 삭제\n",
    "x_data.drop(columns=['SibSp', 'Parch'], inplace=True)"
   ]
  },
  {
   "cell_type": "code",
   "execution_count": 16,
   "metadata": {},
   "outputs": [],
   "source": [
    "# 티켓 번호에서 숫자 부분 추출하기\n",
    "x_data['Ticket'] = x_data['Ticket'].apply(lambda x: ''.join(filter(str.isdigit, x)))\n",
    "# Ticket열에서 분석에 필요한 정보를 찾지 못해서 제거함.\n",
    "x_data.drop(columns=['Ticket'], inplace=True)"
   ]
  },
  {
   "cell_type": "code",
   "execution_count": 17,
   "metadata": {},
   "outputs": [
    {
     "data": {
      "image/png": "[encoded data removed]",
      "text/plain": [
       "<Figure size 720x432 with 1 Axes>"
      ]
     },
     "metadata": {
      "needs_background": "light"
     },
     "output_type": "display_data"
    }
   ],
   "source": [
    "# Fare : 티켓의 요금 - 비싼 요금의 티켓과 생존 여부에 상관이 있을 수도 있다.\n",
    "# 하지만 Pclass가 이 변수를 categorical하게 만든 변수가 아닐까?\n",
    "# Fare 열의 분포 시각화\n",
    "# 30개의 막대로 나누어서 보여주며, KDE 곡선을 함께 표시\n",
    "\n",
    "plt.figure(figsize=(10, 6))\n",
    "sns.histplot(x_data['Fare'], bins=30, kde=True)\n",
    "plt.title('Distribution of Fare')\n",
    "plt.xlabel('Fare')\n",
    "plt.ylabel('Count')\n",
    "plt.show()\n",
    "\n",
    "# 데이터가 정규 분포를 따르지 않음."
   ]
  },
  {
   "cell_type": "code",
   "execution_count": 18,
   "metadata": {},
   "outputs": [],
   "source": [
    "# Cabin : 객실 번호 - 어떤 객실 번호 범위는 좀 더 갑판 등의 생존에 용이한 위치에 있을 수도 있을 듯하다.\n",
    "# 객실 알파벳 부분 추출하여 새로운 변수 생성\n",
    "x_data['Cabin'] = x_data['Cabin'].str[0]\n",
    "\n",
    "# x_data.Cabin.unique()\n",
    "# Cabin 열에 있는 각 유니크한 값들을 확인해보니 N은 없었음.\n",
    "# 결측치 처리: 객실 알파벳이 없는 경우 'N(Unknown)'으로 처리\n",
    "x_data['Cabin'].fillna('N', inplace=True)\n",
    "\n",
    "# 인터넷으로 타이타닉 구조를 검색한 후 pclass와 타이타닉의 층수를 기준으로 나눔.\n",
    "# Cabin의 위치에 따라 등급을 나눔 예)A,B,C,D,T 는 1등급\n",
    "cabin_mapping = {\n",
    "    'A': 1, 'B': 1, 'C': 1, 'D': 1, 'T': 1,\n",
    "    'E': 2, 'F': 2, 'G': 2,\n",
    "    'N': 3  # Unknown 처리\n",
    "}\n",
    "x_data['Cabin'] = x_data['Cabin'].map(cabin_mapping)"
   ]
  },
  {
   "cell_type": "code",
   "execution_count": 19,
   "metadata": {},
   "outputs": [],
   "source": [
    "# Embarked : 탑승지, C = 셰르부르, Q = 퀸즈타운, S = 사우샘프턴\n",
    "# 결측치 처리(최빈값으로 대체)\n",
    "most_common = x_data['Embarked'].mode()[0]\n",
    "x_data['Embarked'].fillna(most_common, inplace=True)"
   ]
  },
  {
   "cell_type": "code",
   "execution_count": 20,
   "metadata": {},
   "outputs": [
    {
     "data": {
      "image/png": "[encoded data removed]",
      "text/plain": [
       "<Figure size 720x576 with 2 Axes>"
      ]
     },
     "metadata": {
      "needs_background": "light"
     },
     "output_type": "display_data"
    }
   ],
   "source": [
    "# 특성간 상관 관계 시각화: 데이터프레임의 특성들 간의 상관 관계를 히트맵으로 시각화하여 각 특성이 다른 특성들과 어떤 관계를 가지는지 확인\n",
    "plt.figure(figsize=(10, 8))\n",
    "correlation_matrix = x_data.corr()\n",
    "sns.heatmap(correlation_matrix, annot=True, cmap='coolwarm', fmt=\".2f\", linewidths=0.5)\n",
    "plt.title('Correlation Matrix')\n",
    "plt.show()"
   ]
  },
  {
   "cell_type": "markdown",
   "metadata": {},
   "source": [
    "<br>\n",
    "\n",
    "## 3. Train - Test split (비율을 7:3 으로 유지해주시고, seed는 0을 적용해주세요)"
   ]
  },
  {
   "cell_type": "code",
   "execution_count": 21,
   "metadata": {},
   "outputs": [
    {
     "name": "stdout",
     "output_type": "stream",
     "text": [
      "Train set:\n",
      "(623, 8)\n",
      "Test set:\n",
      "(268, 8)\n",
      "Train set:\n",
      "(623, 1)\n",
      "Test set:\n",
      "(268, 1)\n"
     ]
    }
   ],
   "source": [
    "# Train - Test split\n",
    "X_train, X_test, y_train, y_test = train_test_split(x_data, y_data, test_size=0.3, random_state=0)\n",
    "print(\"Train set:\")\n",
    "print(X_train.shape)\n",
    "print(\"Test set:\")\n",
    "print(X_test.shape)\n",
    "print(\"Train set:\")\n",
    "print(y_train.shape)\n",
    "print(\"Test set:\")\n",
    "print(y_test.shape)"
   ]
  },
  {
   "cell_type": "code",
   "execution_count": 22,
   "metadata": {},
   "outputs": [],
   "source": [
    "# 변수가 다른 변수들과 스케일이 달라서 영향을 많이 받아 학습이 제대로 이루어지지 않을 수 있어서 정규화 수행.\n",
    "# 이상치에 민감하지 않도록 MinMaxScaler를 사용하여 정규화.\n",
    "\n",
    "# Pipeline 정의\n",
    "# 수치형 변수의 전처리\n",
    "numeric_transformer = Pipeline(steps=[\n",
    "    ('scaler', MinMaxScaler())\n",
    "])\n",
    "\n",
    "# 범주형 변수의 전처리\n",
    "categorical_transformer = Pipeline(steps=[\n",
    "\n",
    "    # 만약 학습할 때는 있지만 테스트 데이터에서 새로운 범주가 발생할 경우\n",
    "    # handle_unknown='ignore' 옵션을 통해 이를 무시하고 변환 작업을 진행\n",
    "    # 이 옵션을 사용함으로써 모델이 학습할 때와 테스트할 때의 일관성을 유지하면서 처리할 수 있음.\n",
    "    # (이름, 변환기)\n",
    "    ('onehot', OneHotEncoder(handle_unknown='ignore'))\n",
    "])\n",
    "\n",
    "# 전체 전처리 파이프라인 정의\n",
    "preprocessor = ColumnTransformer(\n",
    "    transformers=[\n",
    "        ('num', numeric_transformer, ['Age', 'FamilySize', 'Fare']),  # 수치형 변수\n",
    "        ('cat', categorical_transformer, ['Pclass', 'Name', 'Sex', 'Cabin', 'Embarked'])  # 범주형 변수\n",
    "    ])\n",
    "\n",
    "# 최종 Pipeline 정의 (전처리 + 모델)\n",
    "pipeline = Pipeline(steps=[('preprocessor', preprocessor)])\n",
    "\n",
    "# Train 데이터에 대해서만 fit을 적용\n",
    "pipeline.fit(X_train)\n",
    "\n",
    "# Train 데이터와 Test 데이터 각각에 대해 transform 수행\n",
    "X_train = pipeline.transform(X_train)\n",
    "X_test = pipeline.transform(X_test)\n",
    "\n",
    "# 컬럼명 재구성\n",
    "# 수치형 변수와 범주형 변수의 컬럼명을 다시 가져오기\n",
    "numeric_features = preprocessor.transformers_[0][2]\n",
    "categorical_features = preprocessor.transformers_[1][1]['onehot'].get_feature_names(['Pclass', 'Name', 'Sex', 'Cabin', 'Embarked'])\n",
    "\n",
    "# 전체 특성의 컬럼명 재구성\n",
    "feature_names = list(numeric_features) + list(categorical_features)\n",
    "\n",
    "X_train = pd.DataFrame(X_train, columns=feature_names)\n",
    "X_test = pd.DataFrame(X_test, columns=feature_names)"
   ]
  },
  {
   "cell_type": "code",
   "execution_count": 23,
   "metadata": {},
   "outputs": [],
   "source": [
    "# # 편리한 재정렬을 위해 기존의 인덱스를 일반 열로 변환합니다.\n",
    "# X_train = X_train.reset_index()\n",
    "# X_test = X_test.reset_index()\n",
    "\n",
    "# # 훈련 데이터에서 Age 열의 결측치가 있는 행과 없는 행을 분리합니다.\n",
    "# X_train_age_null = X_train[X_train['Age'].isnull()]\n",
    "# X_train_age_notnull = X_train[X_train['Age'].notnull()]\n",
    "\n",
    "# # Age 열이 결측치가 없는 행들로 train_x, train_y 설정\n",
    "# train_x = X_train_age_notnull.drop(columns=['index', 'Age','Cabin','Embarked'])\n",
    "# train_y = X_train_age_notnull['Age']\n",
    "\n",
    "# # Age 열이 결측치가 있는 행들로 test_x 설정\n",
    "# test_x = X_train_age_null.drop(columns=['index', 'Age','Cabin','Embarked'])\n",
    "\n",
    "# # train 데이터를 사용하여 Age를 예측하는 머신러닝 모델을 학습시킵니다.\n",
    "# from sklearn.ensemble import RandomForestRegressor\n",
    "# from sklearn.model_selection import GridSearchCV\n",
    "\n",
    "# rf = RandomForestRegressor()\n",
    "\n",
    "# rf.fit(train_x, train_y)\n",
    "\n",
    "# # 학습된 모델을 사용하여 결측치가 있는 행들의 Age를 예측합니다.\n",
    "# predicted_age = rf.predict(test_x)\n",
    "\n",
    "# # 예측된 Age 값으로 결측치가 있는 행의 Age 열을 채웁니다.\n",
    "# X_train.loc[X_train['Age'].isnull(), 'Age'] = predicted_age\n",
    "\n",
    "# # 재정렬 후 기존 index 열을 삭제하여 인덱스를 정리합니다.\n",
    "# X_train = X_train.sort_values(by='index').drop('index',axis=1)"
   ]
  },
  {
   "cell_type": "code",
   "execution_count": 24,
   "metadata": {},
   "outputs": [],
   "source": [
    "# # 훈련 데이터에서 Age 열의 결측치가 있는 행과 없는 행을 분리합니다.\n",
    "# X_test_age_null = X_test[X_test['Age'].isnull()]\n",
    "# X_test_age_notnull = X_test[X_test['Age'].notnull()]\n",
    "\n",
    "# # Age 열이 결측치가 없는 행들로 train_x, train_y 설정\n",
    "# train_x = X_test_age_notnull.drop(columns=['index', 'Age','Cabin','Embarked'])\n",
    "# train_y = X_test_age_notnull['Age']\n",
    "\n",
    "# # Age 열이 결측치가 있는 행들로 test_x 설정\n",
    "# test_x = X_test_age_null.drop(columns=['index', 'Age','Cabin','Embarked'])\n",
    "\n",
    "# # train 데이터를 사용하여 Age를 예측하는 머신러닝 모델을 학습시킵니다.\n",
    "# from sklearn.ensemble import RandomForestRegressor\n",
    "\n",
    "# rf = RandomForestRegressor()\n",
    "# rf.fit(train_x, train_y)\n",
    "\n",
    "# # 학습된 모델을 사용하여 결측치가 있는 행들의 Age를 예측합니다.\n",
    "# predicted_age = rf.predict(test_x)\n",
    "\n",
    "# # 예측된 Age 값으로 결측치가 있는 행의 Age 열을 채웁니다.\n",
    "# X_test.loc[X_test['Age'].isnull(), 'Age'] = predicted_age\n",
    "\n",
    "# # 재정렬 후 기존 index 열을 삭제하여 인덱스를 정리합니다.\n",
    "# X_test = X_test.sort_values(by='index').drop('index',axis=1)\n",
    "# X_test"
   ]
  },
  {
   "cell_type": "code",
   "execution_count": 25,
   "metadata": {
    "scrolled": true
   },
   "outputs": [
    {
     "data": {
      "text/html": [
       "<div>\n",
       "<style scoped>\n",
       "    .dataframe tbody tr th:only-of-type {\n",
       "        vertical-align: middle;\n",
       "    }\n",
       "\n",
       "    .dataframe tbody tr th {\n",
       "        vertical-align: top;\n",
       "    }\n",
       "\n",
       "    .dataframe thead th {\n",
       "        text-align: right;\n",
       "    }\n",
       "</style>\n",
       "<table border=\"1\" class=\"dataframe\">\n",
       "  <thead>\n",
       "    <tr style=\"text-align: right;\">\n",
       "      <th></th>\n",
       "      <th>Age</th>\n",
       "      <th>FamilySize</th>\n",
       "      <th>Fare</th>\n",
       "      <th>Pclass_1</th>\n",
       "      <th>Pclass_2</th>\n",
       "      <th>Pclass_3</th>\n",
       "      <th>Name_Master</th>\n",
       "      <th>Name_Miss</th>\n",
       "      <th>Name_Mr</th>\n",
       "      <th>Name_Mrs</th>\n",
       "      <th>Name_Officer</th>\n",
       "      <th>Name_Royalty</th>\n",
       "      <th>Sex_0</th>\n",
       "      <th>Sex_1</th>\n",
       "      <th>Cabin_1</th>\n",
       "      <th>Cabin_2</th>\n",
       "      <th>Cabin_3</th>\n",
       "      <th>Embarked_C</th>\n",
       "      <th>Embarked_Q</th>\n",
       "      <th>Embarked_S</th>\n",
       "    </tr>\n",
       "  </thead>\n",
       "  <tbody>\n",
       "    <tr>\n",
       "      <th>0</th>\n",
       "      <td>0.634438</td>\n",
       "      <td>0.0</td>\n",
       "      <td>0.051822</td>\n",
       "      <td>1.0</td>\n",
       "      <td>0.0</td>\n",
       "      <td>0.0</td>\n",
       "      <td>0.0</td>\n",
       "      <td>0.0</td>\n",
       "      <td>1.0</td>\n",
       "      <td>0.0</td>\n",
       "      <td>0.0</td>\n",
       "      <td>0.0</td>\n",
       "      <td>0.0</td>\n",
       "      <td>1.0</td>\n",
       "      <td>0.0</td>\n",
       "      <td>1.0</td>\n",
       "      <td>0.0</td>\n",
       "      <td>0.0</td>\n",
       "      <td>0.0</td>\n",
       "      <td>1.0</td>\n",
       "    </tr>\n",
       "    <tr>\n",
       "      <th>1</th>\n",
       "      <td>0.609227</td>\n",
       "      <td>0.1</td>\n",
       "      <td>0.149765</td>\n",
       "      <td>1.0</td>\n",
       "      <td>0.0</td>\n",
       "      <td>0.0</td>\n",
       "      <td>0.0</td>\n",
       "      <td>0.0</td>\n",
       "      <td>0.0</td>\n",
       "      <td>1.0</td>\n",
       "      <td>0.0</td>\n",
       "      <td>0.0</td>\n",
       "      <td>1.0</td>\n",
       "      <td>0.0</td>\n",
       "      <td>1.0</td>\n",
       "      <td>0.0</td>\n",
       "      <td>0.0</td>\n",
       "      <td>1.0</td>\n",
       "      <td>0.0</td>\n",
       "      <td>0.0</td>\n",
       "    </tr>\n",
       "    <tr>\n",
       "      <th>2</th>\n",
       "      <td>0.004160</td>\n",
       "      <td>0.7</td>\n",
       "      <td>0.091543</td>\n",
       "      <td>0.0</td>\n",
       "      <td>0.0</td>\n",
       "      <td>1.0</td>\n",
       "      <td>1.0</td>\n",
       "      <td>0.0</td>\n",
       "      <td>0.0</td>\n",
       "      <td>0.0</td>\n",
       "      <td>0.0</td>\n",
       "      <td>0.0</td>\n",
       "      <td>0.0</td>\n",
       "      <td>1.0</td>\n",
       "      <td>0.0</td>\n",
       "      <td>0.0</td>\n",
       "      <td>1.0</td>\n",
       "      <td>0.0</td>\n",
       "      <td>0.0</td>\n",
       "      <td>1.0</td>\n",
       "    </tr>\n",
       "    <tr>\n",
       "      <th>3</th>\n",
       "      <td>0.672255</td>\n",
       "      <td>0.1</td>\n",
       "      <td>0.150855</td>\n",
       "      <td>1.0</td>\n",
       "      <td>0.0</td>\n",
       "      <td>0.0</td>\n",
       "      <td>0.0</td>\n",
       "      <td>0.0</td>\n",
       "      <td>1.0</td>\n",
       "      <td>0.0</td>\n",
       "      <td>0.0</td>\n",
       "      <td>0.0</td>\n",
       "      <td>0.0</td>\n",
       "      <td>1.0</td>\n",
       "      <td>1.0</td>\n",
       "      <td>0.0</td>\n",
       "      <td>0.0</td>\n",
       "      <td>0.0</td>\n",
       "      <td>0.0</td>\n",
       "      <td>1.0</td>\n",
       "    </tr>\n",
       "    <tr>\n",
       "      <th>4</th>\n",
       "      <td>0.365929</td>\n",
       "      <td>0.1</td>\n",
       "      <td>0.028221</td>\n",
       "      <td>0.0</td>\n",
       "      <td>0.0</td>\n",
       "      <td>1.0</td>\n",
       "      <td>0.0</td>\n",
       "      <td>0.0</td>\n",
       "      <td>0.0</td>\n",
       "      <td>1.0</td>\n",
       "      <td>0.0</td>\n",
       "      <td>0.0</td>\n",
       "      <td>1.0</td>\n",
       "      <td>0.0</td>\n",
       "      <td>0.0</td>\n",
       "      <td>0.0</td>\n",
       "      <td>1.0</td>\n",
       "      <td>1.0</td>\n",
       "      <td>0.0</td>\n",
       "      <td>0.0</td>\n",
       "    </tr>\n",
       "    <tr>\n",
       "      <th>...</th>\n",
       "      <td>...</td>\n",
       "      <td>...</td>\n",
       "      <td>...</td>\n",
       "      <td>...</td>\n",
       "      <td>...</td>\n",
       "      <td>...</td>\n",
       "      <td>...</td>\n",
       "      <td>...</td>\n",
       "      <td>...</td>\n",
       "      <td>...</td>\n",
       "      <td>...</td>\n",
       "      <td>...</td>\n",
       "      <td>...</td>\n",
       "      <td>...</td>\n",
       "      <td>...</td>\n",
       "      <td>...</td>\n",
       "      <td>...</td>\n",
       "      <td>...</td>\n",
       "      <td>...</td>\n",
       "      <td>...</td>\n",
       "    </tr>\n",
       "    <tr>\n",
       "      <th>618</th>\n",
       "      <td>0.483172</td>\n",
       "      <td>0.2</td>\n",
       "      <td>0.162314</td>\n",
       "      <td>1.0</td>\n",
       "      <td>0.0</td>\n",
       "      <td>0.0</td>\n",
       "      <td>0.0</td>\n",
       "      <td>1.0</td>\n",
       "      <td>0.0</td>\n",
       "      <td>0.0</td>\n",
       "      <td>0.0</td>\n",
       "      <td>0.0</td>\n",
       "      <td>1.0</td>\n",
       "      <td>0.0</td>\n",
       "      <td>0.0</td>\n",
       "      <td>1.0</td>\n",
       "      <td>0.0</td>\n",
       "      <td>1.0</td>\n",
       "      <td>0.0</td>\n",
       "      <td>0.0</td>\n",
       "    </tr>\n",
       "    <tr>\n",
       "      <th>619</th>\n",
       "      <td>0.231060</td>\n",
       "      <td>0.1</td>\n",
       "      <td>0.015330</td>\n",
       "      <td>0.0</td>\n",
       "      <td>0.0</td>\n",
       "      <td>1.0</td>\n",
       "      <td>0.0</td>\n",
       "      <td>1.0</td>\n",
       "      <td>0.0</td>\n",
       "      <td>0.0</td>\n",
       "      <td>0.0</td>\n",
       "      <td>0.0</td>\n",
       "      <td>1.0</td>\n",
       "      <td>0.0</td>\n",
       "      <td>0.0</td>\n",
       "      <td>0.0</td>\n",
       "      <td>1.0</td>\n",
       "      <td>0.0</td>\n",
       "      <td>0.0</td>\n",
       "      <td>1.0</td>\n",
       "    </tr>\n",
       "    <tr>\n",
       "      <th>620</th>\n",
       "      <td>0.365929</td>\n",
       "      <td>0.0</td>\n",
       "      <td>0.015094</td>\n",
       "      <td>0.0</td>\n",
       "      <td>0.0</td>\n",
       "      <td>1.0</td>\n",
       "      <td>0.0</td>\n",
       "      <td>0.0</td>\n",
       "      <td>1.0</td>\n",
       "      <td>0.0</td>\n",
       "      <td>0.0</td>\n",
       "      <td>0.0</td>\n",
       "      <td>0.0</td>\n",
       "      <td>1.0</td>\n",
       "      <td>0.0</td>\n",
       "      <td>0.0</td>\n",
       "      <td>1.0</td>\n",
       "      <td>0.0</td>\n",
       "      <td>1.0</td>\n",
       "      <td>0.0</td>\n",
       "    </tr>\n",
       "    <tr>\n",
       "      <th>621</th>\n",
       "      <td>0.445355</td>\n",
       "      <td>0.1</td>\n",
       "      <td>0.033963</td>\n",
       "      <td>0.0</td>\n",
       "      <td>0.0</td>\n",
       "      <td>1.0</td>\n",
       "      <td>0.0</td>\n",
       "      <td>0.0</td>\n",
       "      <td>0.0</td>\n",
       "      <td>1.0</td>\n",
       "      <td>0.0</td>\n",
       "      <td>0.0</td>\n",
       "      <td>1.0</td>\n",
       "      <td>0.0</td>\n",
       "      <td>0.0</td>\n",
       "      <td>0.0</td>\n",
       "      <td>1.0</td>\n",
       "      <td>0.0</td>\n",
       "      <td>0.0</td>\n",
       "      <td>1.0</td>\n",
       "    </tr>\n",
       "    <tr>\n",
       "      <th>622</th>\n",
       "      <td>0.747889</td>\n",
       "      <td>0.2</td>\n",
       "      <td>0.076123</td>\n",
       "      <td>0.0</td>\n",
       "      <td>1.0</td>\n",
       "      <td>0.0</td>\n",
       "      <td>0.0</td>\n",
       "      <td>0.0</td>\n",
       "      <td>1.0</td>\n",
       "      <td>0.0</td>\n",
       "      <td>0.0</td>\n",
       "      <td>0.0</td>\n",
       "      <td>0.0</td>\n",
       "      <td>1.0</td>\n",
       "      <td>0.0</td>\n",
       "      <td>0.0</td>\n",
       "      <td>1.0</td>\n",
       "      <td>0.0</td>\n",
       "      <td>0.0</td>\n",
       "      <td>1.0</td>\n",
       "    </tr>\n",
       "  </tbody>\n",
       "</table>\n",
       "<p>623 rows × 20 columns</p>\n",
       "</div>"
      ],
      "text/plain": [
       "          Age  FamilySize      Fare  Pclass_1  Pclass_2  Pclass_3  \\\n",
       "0    0.634438         0.0  0.051822       1.0       0.0       0.0   \n",
       "1    0.609227         0.1  0.149765       1.0       0.0       0.0   \n",
       "2    0.004160         0.7  0.091543       0.0       0.0       1.0   \n",
       "3    0.672255         0.1  0.150855       1.0       0.0       0.0   \n",
       "4    0.365929         0.1  0.028221       0.0       0.0       1.0   \n",
       "..        ...         ...       ...       ...       ...       ...   \n",
       "618  0.483172         0.2  0.162314       1.0       0.0       0.0   \n",
       "619  0.231060         0.1  0.015330       0.0       0.0       1.0   \n",
       "620  0.365929         0.0  0.015094       0.0       0.0       1.0   \n",
       "621  0.445355         0.1  0.033963       0.0       0.0       1.0   \n",
       "622  0.747889         0.2  0.076123       0.0       1.0       0.0   \n",
       "\n",
       "     Name_Master  Name_Miss  Name_Mr  Name_Mrs  Name_Officer  Name_Royalty  \\\n",
       "0            0.0        0.0      1.0       0.0           0.0           0.0   \n",
       "1            0.0        0.0      0.0       1.0           0.0           0.0   \n",
       "2            1.0        0.0      0.0       0.0           0.0           0.0   \n",
       "3            0.0        0.0      1.0       0.0           0.0           0.0   \n",
       "4            0.0        0.0      0.0       1.0           0.0           0.0   \n",
       "..           ...        ...      ...       ...           ...           ...   \n",
       "618          0.0        1.0      0.0       0.0           0.0           0.0   \n",
       "619          0.0        1.0      0.0       0.0           0.0           0.0   \n",
       "620          0.0        0.0      1.0       0.0           0.0           0.0   \n",
       "621          0.0        0.0      0.0       1.0           0.0           0.0   \n",
       "622          0.0        0.0      1.0       0.0           0.0           0.0   \n",
       "\n",
       "     Sex_0  Sex_1  Cabin_1  Cabin_2  Cabin_3  Embarked_C  Embarked_Q  \\\n",
       "0      0.0    1.0      0.0      1.0      0.0         0.0         0.0   \n",
       "1      1.0    0.0      1.0      0.0      0.0         1.0         0.0   \n",
       "2      0.0    1.0      0.0      0.0      1.0         0.0         0.0   \n",
       "3      0.0    1.0      1.0      0.0      0.0         0.0         0.0   \n",
       "4      1.0    0.0      0.0      0.0      1.0         1.0         0.0   \n",
       "..     ...    ...      ...      ...      ...         ...         ...   \n",
       "618    1.0    0.0      0.0      1.0      0.0         1.0         0.0   \n",
       "619    1.0    0.0      0.0      0.0      1.0         0.0         0.0   \n",
       "620    0.0    1.0      0.0      0.0      1.0         0.0         1.0   \n",
       "621    1.0    0.0      0.0      0.0      1.0         0.0         0.0   \n",
       "622    0.0    1.0      0.0      0.0      1.0         0.0         0.0   \n",
       "\n",
       "     Embarked_S  \n",
       "0           1.0  \n",
       "1           0.0  \n",
       "2           1.0  \n",
       "3           1.0  \n",
       "4           0.0  \n",
       "..          ...  \n",
       "618         0.0  \n",
       "619         1.0  \n",
       "620         0.0  \n",
       "621         1.0  \n",
       "622         1.0  \n",
       "\n",
       "[623 rows x 20 columns]"
      ]
     },
     "execution_count": 25,
     "metadata": {},
     "output_type": "execute_result"
    }
   ],
   "source": [
    "pd.DataFrame(X_train)"
   ]
  },
  {
   "cell_type": "code",
   "execution_count": 26,
   "metadata": {},
   "outputs": [],
   "source": [
    "# 생존자와 사망자의 비율이 비교적 불균형하지만, AUC점수 확인 결과 점수가 낮아짐. 과적합이 우려되어 사용하지 않음.\n",
    "# from imblearn.over_sampling import SMOTE\n",
    "# smote = SMOTE(random_state=42)\n",
    "# X_train_smote, y_train_smote = smote.fit_resample(X_train, y_train)"
   ]
  },
  {
   "cell_type": "markdown",
   "metadata": {},
   "source": [
    "<br>\n",
    "\n",
    "## 4. Create model instance variable (동시에 여러 모델을 다른 이름으로 만들 수 있습니다.)"
   ]
  },
  {
   "cell_type": "code",
   "execution_count": 27,
   "metadata": {},
   "outputs": [
    {
     "name": "stdout",
     "output_type": "stream",
     "text": [
      "RandomForestClassifier ROC-AUC Score: 0.8779\n",
      "              precision    recall  f1-score   support\n",
      "\n",
      "           0       0.83      0.89      0.86       168\n",
      "           1       0.79      0.70      0.74       100\n",
      "\n",
      "    accuracy                           0.82       268\n",
      "   macro avg       0.81      0.79      0.80       268\n",
      "weighted avg       0.82      0.82      0.81       268\n",
      "\n"
     ]
    },
    {
     "data": {
      "image/png": "[encoded data removed]",
      "text/plain": [
       "<Figure size 432x288 with 1 Axes>"
      ]
     },
     "metadata": {
      "needs_background": "light"
     },
     "output_type": "display_data"
    },
    {
     "name": "stdout",
     "output_type": "stream",
     "text": [
      "[22:22:19] WARNING: C:/Users/Administrator/workspace/xgboost-win64_release_1.5.1/src/learner.cc:1115: Starting in XGBoost 1.3.0, the default evaluation metric used with the objective 'binary:logistic' was changed from 'error' to 'logloss'. Explicitly set eval_metric if you'd like to restore the old behavior.\n",
      "XGBClassifier ROC-AUC Score: 0.8701\n",
      "              precision    recall  f1-score   support\n",
      "\n",
      "           0       0.85      0.88      0.86       168\n",
      "           1       0.78      0.73      0.76       100\n",
      "\n",
      "    accuracy                           0.82       268\n",
      "   macro avg       0.82      0.81      0.81       268\n",
      "weighted avg       0.82      0.82      0.82       268\n",
      "\n"
     ]
    },
    {
     "data": {
      "image/png": "[encoded data removed]",
      "text/plain": [
       "<Figure size 432x288 with 1 Axes>"
      ]
     },
     "metadata": {
      "needs_background": "light"
     },
     "output_type": "display_data"
    },
    {
     "name": "stdout",
     "output_type": "stream",
     "text": [
      "LogisticRegression ROC-AUC Score: 0.8718\n",
      "              precision    recall  f1-score   support\n",
      "\n",
      "           0       0.86      0.86      0.86       168\n",
      "           1       0.76      0.76      0.76       100\n",
      "\n",
      "    accuracy                           0.82       268\n",
      "   macro avg       0.81      0.81      0.81       268\n",
      "weighted avg       0.82      0.82      0.82       268\n",
      "\n"
     ]
    },
    {
     "data": {
      "image/png": "[encoded data removed]",
      "text/plain": [
       "<Figure size 432x288 with 1 Axes>"
      ]
     },
     "metadata": {
      "needs_background": "light"
     },
     "output_type": "display_data"
    },
    {
     "name": "stdout",
     "output_type": "stream",
     "text": [
      "GradientBoostingClassifier ROC-AUC Score: 0.8814\n",
      "              precision    recall  f1-score   support\n",
      "\n",
      "           0       0.84      0.88      0.86       168\n",
      "           1       0.78      0.73      0.75       100\n",
      "\n",
      "    accuracy                           0.82       268\n",
      "   macro avg       0.81      0.80      0.81       268\n",
      "weighted avg       0.82      0.82      0.82       268\n",
      "\n"
     ]
    },
    {
     "data": {
      "image/png": "[encoded data removed]",
      "text/plain": [
       "<Figure size 432x288 with 1 Axes>"
      ]
     },
     "metadata": {
      "needs_background": "light"
     },
     "output_type": "display_data"
    }
   ],
   "source": [
    "# 성능을 시각적으로 표현할 수 있는 auc score를 사용함.\n",
    "\n",
    "# 전통적이고, 성능이 좋다고 알려진 모델들을 사용해봄.\n",
    "models = {\n",
    "    'RandomForestClassifier' : RandomForestClassifier(random_state=0),\n",
    "    'XGBClassifier' : XGBClassifier(random_state=0),\n",
    "    'LogisticRegression' : LogisticRegression(random_state=0),\n",
    "    'GradientBoostingClassifier' : GradientBoostingClassifier(random_state=0)\n",
    "}\n",
    "\n",
    "for model_name, model in models.items():\n",
    "    model.fit(X_train, y_train)\n",
    "    \n",
    "    pred = model.predict(X_test)\n",
    "    \n",
    "    # 클래스 1에 대한 예측 확률\n",
    "    pred_proba = model.predict_proba(X_test)[:,1]\n",
    "    roc_auc = roc_auc_score(y_test, pred_proba)\n",
    "    print(f'{model_name} ROC-AUC Score: {roc_auc:.4f}')\n",
    "    \n",
    "    # 예측 결과와 실제 레이블을 이용하여 classification report 생성\n",
    "    print(classification_report(y_test, pred))\n",
    "    \n",
    "    # ROC curve 및 AUC 계산\n",
    "    fpr, tpr, _ = roc_curve(y_test, pred_proba)\n",
    "    roc_auc = auc(fpr, tpr)\n",
    "\n",
    "    # ROC curve 그리기\n",
    "    plt.figure()\n",
    "    plt.plot(fpr, tpr, color='darkorange', lw=2, label='ROC curve (area = %0.2f)' % roc_auc)\n",
    "    plt.plot([0, 1], [0, 1], color='navy', lw=2, linestyle='--')\n",
    "    plt.xlim([0.0, 1.0])\n",
    "    plt.ylim([0.0, 1.05])\n",
    "    plt.xlabel('False Positive Rate')\n",
    "    plt.ylabel('True Positive Rate')\n",
    "    plt.title((f'{model_name} ROC-AUC Score: {roc_auc:.4f}'))\n",
    "    plt.legend(loc=\"lower right\")\n",
    "    plt.show()"
   ]
  },
  {
   "cell_type": "code",
   "execution_count": 28,
   "metadata": {},
   "outputs": [
    {
     "name": "stdout",
     "output_type": "stream",
     "text": [
      "Fitting 5 folds for each of 100 candidates, totalling 500 fits\n",
      "최적의 하이퍼파라미터: {'n_estimators': 200, 'min_samples_split': 2, 'min_samples_leaf': 2, 'max_depth': 3, 'learning_rate': 0.1}\n",
      "최적의 Gradient Boosting ROC-AUC 점수: 0.8680\n",
      "\n",
      "              precision    recall  f1-score   support\n",
      "\n",
      "           0       0.85      0.88      0.86       168\n",
      "           1       0.78      0.73      0.76       100\n",
      "\n",
      "    accuracy                           0.82       268\n",
      "   macro avg       0.82      0.81      0.81       268\n",
      "weighted avg       0.82      0.82      0.82       268\n",
      "\n"
     ]
    },
    {
     "data": {
      "image/png": "[encoded data removed]",
      "text/plain": [
       "<Figure size 576x432 with 1 Axes>"
      ]
     },
     "metadata": {
      "needs_background": "light"
     },
     "output_type": "display_data"
    }
   ],
   "source": [
    "# 그리드서치를 사용해보았으나 느려서 랜덤 서치 사용함.\n",
    "# 최적의 조합을 빠르게 찾고자 랜덤서치 사용함.\n",
    "# 위의 모델 중 가장 성능이 좋은 GradientBoostingClassifier 모델 Hyper-parameter tuning 적용\n",
    "\n",
    "# GradientBoostingClassifier 모델 생성\n",
    "gb = GradientBoostingClassifier(random_state=0)\n",
    "\n",
    "# 랜덤 서치를 위한 하이퍼파라미터 후보 설정\n",
    "param = {\n",
    "    'n_estimators': [50, 100, 200],\n",
    "    'learning_rate': [0.01, 0.05, 0.1],\n",
    "    'max_depth': [3, 5, 7],\n",
    "    'min_samples_split': [2, 5, 10],\n",
    "    'min_samples_leaf': [1, 2, 4]\n",
    "}\n",
    "\n",
    "# RandomizedSearchCV 객체 생성\n",
    "random_search = RandomizedSearchCV(estimator=gb, param_distributions=param, n_iter=100,\n",
    "                                   cv=5, scoring='roc_auc', random_state=0, verbose=1, n_jobs=-1)\n",
    "\n",
    "# 랜덤 서치를 사용하여 모델 학습\n",
    "random_search.fit(X_train, y_train)\n",
    "\n",
    "# 최적의 하이퍼파라미터 출력\n",
    "print(f\"최적의 하이퍼파라미터: {random_search.best_params_}\")\n",
    "\n",
    "# 최적 모델로 예측\n",
    "random_pred = random_search.predict(X_test)\n",
    "\n",
    "# 최적 모델의 ROC-AUC 점수 계산\n",
    "probs = random_search.predict_proba(X_test)[:, 1]\n",
    "roc_auc_random = roc_auc_score(y_test, probs)\n",
    "print(f'최적의 Gradient Boosting ROC-AUC 점수: {roc_auc_random:.4f}')\n",
    "print()\n",
    "\n",
    "# 예측 결과와 실제 레이블을 이용하여 classification report 생성\n",
    "print(classification_report(y_test, random_pred))\n",
    "\n",
    "# ROC 곡선 계산\n",
    "fpr, tpr, _ = roc_curve(y_test, probs)\n",
    "roc_auc = auc(fpr, tpr)\n",
    "\n",
    "# ROC 곡선 그리기\n",
    "plt.figure(figsize=(8, 6))\n",
    "plt.plot(fpr, tpr, color='darkorange', lw=2, label=f'ROC curve (area = {roc_auc:.4f})')\n",
    "plt.plot([0, 1], [0, 1], color='navy', lw=2, linestyle='--')\n",
    "plt.xlim([0.0, 1.0])\n",
    "plt.ylim([0.0, 1.05])\n",
    "plt.xlabel('False Positive Rate')\n",
    "plt.ylabel('True Positive Rate')\n",
    "plt.title('GradientBoostingClassifier (ROC) Curve')\n",
    "plt.legend(loc='lower right')\n",
    "plt.show()"
   ]
  },
  {
   "cell_type": "markdown",
   "metadata": {},
   "source": [
    "<br>\n",
    "\n",
    "## 5. Train the model (Stacking)"
   ]
  },
  {
   "cell_type": "code",
   "execution_count": 29,
   "metadata": {
    "scrolled": true
   },
   "outputs": [
    {
     "name": "stdout",
     "output_type": "stream",
     "text": [
      "task:         [classification]\n",
      "n_classes:    [2]\n",
      "metric:       [roc_auc_score]\n",
      "variant:      [A]\n",
      "n_estimators: [3]\n",
      "\n",
      "estimator  0: [ExtraTrees: ExtraTreesClassifier]\n",
      "    fold  0:  [0.73080242]\n",
      "    fold  1:  [0.82735116]\n",
      "    fold  2:  [0.80625000]\n",
      "    fold  3:  [0.74736842]\n",
      "    ----\n",
      "    MEAN:     [0.77794300] + [0.03999841]\n",
      "\n",
      "estimator  1: [RandomForest: RandomForestClassifier]\n",
      "    fold  0:  [0.76764452]\n",
      "    fold  1:  [0.84314064]\n",
      "    fold  2:  [0.81145833]\n",
      "    fold  3:  [0.76315789]\n",
      "    ----\n",
      "    MEAN:     [0.79635035] + [0.03295203]\n",
      "\n",
      "estimator  2: [XGB: XGBClassifier]\n",
      "    fold  0:  [0.76238136]\n",
      "    fold  1:  [0.84607420]\n",
      "    fold  2:  [0.79270833]\n",
      "    fold  3:  [0.79956140]\n",
      "    ----\n",
      "    MEAN:     [0.80018133] + [0.02996341]\n",
      "\n",
      "Train set was detected.\n",
      "Transforming...\n",
      "\n",
      "estimator  0: [ExtraTrees: ExtraTreesClassifier]\n",
      "    model from fold  0: done\n",
      "    model from fold  1: done\n",
      "    model from fold  2: done\n",
      "    model from fold  3: done\n",
      "    ----\n",
      "    DONE\n",
      "\n",
      "estimator  1: [RandomForest: RandomForestClassifier]\n",
      "    model from fold  0: done\n",
      "    model from fold  1: done\n",
      "    model from fold  2: done\n",
      "    model from fold  3: done\n",
      "    ----\n",
      "    DONE\n",
      "\n",
      "estimator  2: [XGB: XGBClassifier]\n",
      "    model from fold  0: done\n",
      "    model from fold  1: done\n",
      "    model from fold  2: done\n",
      "    model from fold  3: done\n",
      "    ----\n",
      "    DONE\n",
      "\n",
      "Transforming...\n",
      "\n",
      "estimator  0: [ExtraTrees: ExtraTreesClassifier]\n",
      "    model from fold  0: done\n",
      "    model from fold  1: done\n",
      "    model from fold  2: done\n",
      "    model from fold  3: done\n",
      "    ----\n",
      "    DONE\n",
      "\n",
      "estimator  1: [RandomForest: RandomForestClassifier]\n",
      "    model from fold  0: done\n",
      "    model from fold  1: done\n",
      "    model from fold  2: done\n",
      "    model from fold  3: done\n",
      "    ----\n",
      "    DONE\n",
      "\n",
      "estimator  2: [XGB: XGBClassifier]\n",
      "    model from fold  0: done\n",
      "    model from fold  1: done\n",
      "    model from fold  2: done\n",
      "    model from fold  3: done\n",
      "    ----\n",
      "    DONE\n",
      "\n"
     ]
    }
   ],
   "source": [
    "# StackingTransformer에 사용될 모델 객체들을 ( ‘name’, ‘모델 종류’) 의 tuple형식을 사용한다.\n",
    "estimators = [ \n",
    "    ('ExtraTrees', ExtraTreesClassifier(random_state = 0, n_jobs = -1, n_estimators = 100, max_depth = 3)),\n",
    "    ('RandomForest', RandomForestClassifier(random_state = 0, n_jobs = -1, n_estimators = 100, max_depth = 3)),\n",
    "    ('XGB', XGBClassifier(seed = 0, n_jobs = -1, learning_rate = 0.1, n_estimators = 100, max_depth = 3, eval_metric='mlogloss'))]\n",
    "\n",
    "# StackingTransformer 를 만든다.\n",
    "stack = StackingTransformer(estimators, \n",
    "                            regression = False, \n",
    "                            metric = roc_auc_score, \n",
    "                            n_folds = 4, stratified = True, shuffle = True, \n",
    "                            random_state = 0, verbose = 2) \n",
    "\n",
    "# StackingTransformer에 X_train, y_train을 이용해 학습한다.\n",
    "# transform() 함수를 이용하여 변환한다.\n",
    "# 이후에는 위의 2단계 stacking 기법과 같이 진행된다.\n",
    "stack = stack.fit(X_train, y_train)\n",
    "\n",
    "S_train = stack.transform(X_train)\n",
    "S_test = stack.transform(X_test)"
   ]
  },
  {
   "cell_type": "code",
   "execution_count": 30,
   "metadata": {
    "scrolled": true
   },
   "outputs": [
    {
     "name": "stdout",
     "output_type": "stream",
     "text": [
      "Final ROC-AUC Score: [0.81750000]\n",
      "\n",
      "              precision    recall  f1-score   support\n",
      "\n",
      "           0       0.86      0.88      0.87       168\n",
      "           1       0.78      0.76      0.77       100\n",
      "\n",
      "    accuracy                           0.83       268\n",
      "   macro avg       0.82      0.82      0.82       268\n",
      "weighted avg       0.83      0.83      0.83       268\n",
      "\n"
     ]
    },
    {
     "data": {
      "image/png": "[encoded data removed]",
      "text/plain": [
       "<Figure size 432x288 with 1 Axes>"
      ]
     },
     "metadata": {
      "needs_background": "light"
     },
     "output_type": "display_data"
    }
   ],
   "source": [
    "# 2단계 모델\n",
    "model = GradientBoostingClassifier(random_state = 0, learning_rate = 0.1, n_estimators = 100, max_depth = 3) \n",
    "\n",
    "# 2단계 모델을 학습.\n",
    "model = model.fit(S_train, y_train) \n",
    "\n",
    "# 학습된 2단계 모델을 가지고 예측한다.\n",
    "y_pred = model.predict(S_test) \n",
    "print('Final ROC-AUC Score: [%.8f]' % roc_auc_score(y_test, y_pred))\n",
    "print()\n",
    "\n",
    "# 예측 결과와 실제 레이블을 이용하여 classification report 생성\n",
    "print(classification_report(y_test, y_pred))\n",
    "\n",
    "# ROC curve 및 AUC 계산\n",
    "fpr, tpr, _ = roc_curve(y_test, y_pred)\n",
    "roc_auc = auc(fpr, tpr)\n",
    "\n",
    "# ROC curve 그리기\n",
    "plt.figure()\n",
    "plt.plot(fpr, tpr, color='darkorange', lw=2, label='ROC curve (area = %0.2f)' % roc_auc)\n",
    "plt.plot([0, 1], [0, 1], color='navy', lw=2, linestyle='--')\n",
    "plt.xlim([0.0, 1.0])\n",
    "plt.ylim([0.0, 1.05])\n",
    "plt.xlabel('False Positive Rate')\n",
    "plt.ylabel('True Positive Rate')\n",
    "plt.title((f'Stacking ROC-AUC Score: {roc_auc:.4f}'))\n",
    "plt.legend(loc=\"lower right\")\n",
    "plt.show()"
   ]
  },
  {
   "cell_type": "markdown",
   "metadata": {},
   "source": [
    "현재 우리가 사용했던 모델 중에서는 그래디언트부스팅이 가장 성능이 높음을 알 수 있습니다.\n",
    "\n",
    "스태킹 적용 결과 모델 성능이 더 낮아짐을 알 수 있다. (데이터의 수가 적어서 그럴 가능성 있음.)"
   ]
  },
  {
   "cell_type": "markdown",
   "metadata": {},
   "source": [
    "<br>\n",
    "\n",
    "## 6. 향후 보안할 점"
   ]
  },
  {
   "cell_type": "markdown",
   "metadata": {},
   "source": [
    "age열의 결측치를 랜던포레스트와 그리드서치를 통해 채우려 하였으나, 성능이 안좋아져서 다른 열들을 수정해보았으나 성능은 변함이 없었고, 마지막으로 age 열의 결측치를 평균값으로 채웠더니 성능이 좋아졌다.\n",
    "\n",
    "시간이 부족해서 더 찾아보지 못했지만 추후 결측치를 모델을 통해 채우면서 성능을 높일 수 있는 방법을 찾아봐야겠다."
   ]
  }
 ],
 "metadata": {
  "accelerator": "GPU",
  "colab": {
   "name": "Titanic with XGBoost.ipynb",
   "provenance": [],
   "version": "0.3.2"
  },
  "kernelspec": {
   "display_name": "Python 3",
   "language": "python",
   "name": "python3"
  },
  "language_info": {
   "codemirror_mode": {
    "name": "ipython",
    "version": 3
   },
   "file_extension": ".py",
   "mimetype": "text/x-python",
   "name": "python",
   "nbconvert_exporter": "python",
   "pygments_lexer": "ipython3",
   "version": "3.8.8"
  }
 },
 "nbformat": 4,
 "nbformat_minor": 1
}
